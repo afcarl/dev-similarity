{
 "cells": [
  {
   "cell_type": "code",
   "execution_count": 1,
   "metadata": {
    "collapsed": false
   },
   "outputs": [
    {
     "name": "stdout",
     "output_type": "stream",
     "text": [
      "Populating the interactive namespace from numpy and matplotlib\n"
     ]
    }
   ],
   "source": [
    "%pylab inline\n",
    "import hashlib\n",
    "from itertools import groupby\n",
    "import pickle"
   ]
  },
  {
   "cell_type": "code",
   "execution_count": null,
   "metadata": {
    "collapsed": true
   },
   "outputs": [],
   "source": [
    "!wget https://storage.googleapis.com/models.cdn.sourced.tech/legacy/profile.pickle"
   ]
  },
  {
   "cell_type": "code",
   "execution_count": null,
   "metadata": {
    "collapsed": true
   },
   "outputs": [],
   "source": [
    "with open(\"profile.pickle\", \"rb\") as fin:\n",
    "    devs, repo_index, grid_jv, assignments = pickle.load(fin)\n",
    "    \n",
    "def hash_email(email):\n",
    "    m = hashlib.sha256()\n",
    "    m.update(b\"sourced\")\n",
    "    m.update(email.encode(\"utf-8\"))\n",
    "    return m.digest()\n",
    "\n",
    "def draw_profile(email):\n",
    "    my_repos = devs[hash_email(email)]\n",
    "    my_repos = [(repo_index[r[0]], r[1]) for r in my_repos if r[0] in repo_index]\n",
    "    my_clusters = [(assignments[r[0]], r[1]) for r in my_repos]\n",
    "    my_clusters = [[k, sum(c[1] for c in g)] for k, g in groupby(sorted(my_clusters), lambda c: c[0])]\n",
    "    # two clusters were pushed away during kmcuda k-means, we have to adjust the indices\n",
    "    for c in my_clusters:\n",
    "        if c[0] > 1742:\n",
    "            c[0] -= 2\n",
    "        elif c[0] > 1414:\n",
    "            c[0] -= 1\n",
    "            \n",
    "    profile = zeros((54, 54), dtype=float32)\n",
    "    for c in my_clusters:\n",
    "        profile[tuple((grid_jv[c[0]] * (54 - 1)).astype(int))] = c[1]\n",
    "    imshow(profile, interpolation=\"nearest\", cmap=\"Blues\")\n",
    "    title(\"%s profile in the topic space\" % email)"
   ]
  },
  {
   "cell_type": "code",
   "execution_count": null,
   "metadata": {
    "collapsed": true
   },
   "outputs": [],
   "source": [
    "draw_profile(\"mcuadros@gmail.com\")"
   ]
  }
 ],
 "metadata": {
  "kernelspec": {
   "display_name": "Python 3",
   "language": "python",
   "name": "python3"
  },
  "language_info": {
   "codemirror_mode": {
    "name": "ipython",
    "version": 3
   },
   "file_extension": ".py",
   "mimetype": "text/x-python",
   "name": "python",
   "nbconvert_exporter": "python",
   "pygments_lexer": "ipython3",
   "version": "3.5.2"
  }
 },
 "nbformat": 4,
 "nbformat_minor": 1
}
