{
 "cells": [
  {
   "cell_type": "code",
   "execution_count": 1,
   "metadata": {},
   "outputs": [
    {
     "name": "stdout",
     "output_type": "stream",
     "text": [
      "Populating the interactive namespace from numpy and matplotlib\n"
     ]
    }
   ],
   "source": [
    "%pylab inline\n",
    "import hashlib\n",
    "from itertools import groupby\n",
    "import pickle"
   ]
  },
  {
   "cell_type": "code",
   "execution_count": 2,
   "metadata": {},
   "outputs": [
    {
     "name": "stdout",
     "output_type": "stream",
     "text": [
      "--2017-09-20 08:15:19--  https://storage.googleapis.com/models.cdn.sourced.tech/legacy/profiles.pickle\n",
      "Resolving storage.googleapis.com (storage.googleapis.com)... 216.58.210.176, 2a00:1450:4003:806::2010\n",
      "Connecting to storage.googleapis.com (storage.googleapis.com)|216.58.210.176|:443... connected.\n",
      "HTTP request sent, awaiting response... 200 OK\n",
      "Length: 2083670692 (1.9G) [application/octet-stream]\n",
      "Saving to: ‘profiles.pickle’\n",
      "\n",
      "profiles.pickle     100%[===================>]   1.94G  36.3MB/s    in 56s     \n",
      "\n",
      "2017-09-20 08:16:16 (35.3 MB/s) - ‘profiles.pickle’ saved [2083670692/2083670692]\n",
      "\n"
     ]
    }
   ],
   "source": [
    "!wget https://storage.googleapis.com/models.cdn.sourced.tech/legacy/profiles.pickle"
   ]
  },
  {
   "cell_type": "code",
   "execution_count": 3,
   "metadata": {},
   "outputs": [],
   "source": [
    "with open(\"profiles.pickle\", \"rb\") as fin:\n",
    "    devs, repo_index, grid_jv, assignments = pickle.load(fin)\n",
    "    \n",
    "def hash_email(email):\n",
    "    m = hashlib.sha256()\n",
    "    m.update(b\"sourced\")\n",
    "    m.update(email.encode(\"utf-8\"))\n",
    "    return m.digest()\n",
    "\n",
    "def draw_profile(email):\n",
    "    my_repos = devs[hash_email(email)]\n",
    "    my_repos = [(repo_index[r[0]], r[1]) for r in my_repos if r[0] in repo_index]\n",
    "    my_clusters = [(assignments[r[0]], r[1]) for r in my_repos]\n",
    "    my_clusters = [[k, sum(c[1] for c in g)] for k, g in groupby(sorted(my_clusters), lambda c: c[0])]\n",
    "    # two clusters were pushed away during kmcuda k-means, we have to adjust the indices\n",
    "    for c in my_clusters:\n",
    "        if c[0] > 1742:\n",
    "            c[0] -= 2\n",
    "        elif c[0] > 1414:\n",
    "            c[0] -= 1\n",
    "            \n",
    "    profile = zeros((54, 54), dtype=float32)\n",
    "    for c in my_clusters:\n",
    "        profile[tuple((grid_jv[c[0]] * (54 - 1)).astype(int))] = c[1]\n",
    "    imshow(profile, interpolation=\"nearest\", cmap=\"Blues\")\n",
    "    title(\"%s profile in the topic space\" % email)"
   ]
  },
  {
   "cell_type": "code",
   "execution_count": 4,
   "metadata": {},
   "outputs": [
    {
     "data": {
      "image/png": "[encoded data removed]",
      "text/plain": [
       "<matplotlib.figure.Figure at 0x7fc1f973ada0>"
      ]
     },
     "metadata": {},
     "output_type": "display_data"
    }
   ],
   "source": [
    "draw_profile(\"mcuadros@gmail.com\")"
   ]
  }
 ],
 "metadata": {
  "kernelspec": {
   "display_name": "Python 3",
   "language": "python",
   "name": "python3"
  },
  "language_info": {
   "codemirror_mode": {
    "name": "ipython",
    "version": 3
   },
   "file_extension": ".py",
   "mimetype": "text/x-python",
   "name": "python",
   "nbconvert_exporter": "python",
   "pygments_lexer": "ipython3",
   "version": "3.5.2"
  }
 },
 "nbformat": 4,
 "nbformat_minor": 2
}
